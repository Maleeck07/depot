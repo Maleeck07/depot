{
  "nbformat": 4,
  "nbformat_minor": 0,
  "metadata": {
    "colab": {
      "provenance": []
    },
    "kernelspec": {
      "name": "python3",
      "display_name": "Python 3"
    },
    "language_info": {
      "name": "python"
    }
  },
  "cells": [
    {
      "cell_type": "code",
      "execution_count": 2,
      "metadata": {
        "colab": {
          "base_uri": "https://localhost:8080/",
          "height": 730
        },
        "id": "TBhhMRT9kcpb",
        "outputId": "cf36efa7-0ab6-4f75-da22-267f338fb9e9"
      },
      "outputs": [
        {
          "output_type": "stream",
          "name": "stdout",
          "text": [
            "Requirement already satisfied: pandas in /usr/local/lib/python3.10/dist-packages (2.0.3)\n",
            "Collecting dash\n",
            "  Downloading dash-2.17.1-py3-none-any.whl (7.5 MB)\n",
            "\u001b[2K     \u001b[90m━━━━━━━━━━━━━━━━━━━━━━━━━━━━━━━━━━━━━━━━\u001b[0m \u001b[32m7.5/7.5 MB\u001b[0m \u001b[31m46.7 MB/s\u001b[0m eta \u001b[36m0:00:00\u001b[0m\n",
            "\u001b[?25hRequirement already satisfied: plotly in /usr/local/lib/python3.10/dist-packages (5.15.0)\n",
            "Requirement already satisfied: python-dateutil>=2.8.2 in /usr/local/lib/python3.10/dist-packages (from pandas) (2.8.2)\n",
            "Requirement already satisfied: pytz>=2020.1 in /usr/local/lib/python3.10/dist-packages (from pandas) (2023.4)\n",
            "Requirement already satisfied: tzdata>=2022.1 in /usr/local/lib/python3.10/dist-packages (from pandas) (2024.1)\n",
            "Requirement already satisfied: numpy>=1.21.0 in /usr/local/lib/python3.10/dist-packages (from pandas) (1.25.2)\n",
            "Requirement already satisfied: Flask<3.1,>=1.0.4 in /usr/local/lib/python3.10/dist-packages (from dash) (2.2.5)\n",
            "Requirement already satisfied: Werkzeug<3.1 in /usr/local/lib/python3.10/dist-packages (from dash) (3.0.3)\n",
            "Collecting dash-html-components==2.0.0 (from dash)\n",
            "  Downloading dash_html_components-2.0.0-py3-none-any.whl (4.1 kB)\n",
            "Collecting dash-core-components==2.0.0 (from dash)\n",
            "  Downloading dash_core_components-2.0.0-py3-none-any.whl (3.8 kB)\n",
            "Collecting dash-table==5.0.0 (from dash)\n",
            "  Downloading dash_table-5.0.0-py3-none-any.whl (3.9 kB)\n",
            "Requirement already satisfied: importlib-metadata in /usr/local/lib/python3.10/dist-packages (from dash) (8.0.0)\n",
            "Requirement already satisfied: typing-extensions>=4.1.1 in /usr/local/lib/python3.10/dist-packages (from dash) (4.12.2)\n",
            "Requirement already satisfied: requests in /usr/local/lib/python3.10/dist-packages (from dash) (2.31.0)\n",
            "Collecting retrying (from dash)\n",
            "  Downloading retrying-1.3.4-py3-none-any.whl (11 kB)\n",
            "Requirement already satisfied: nest-asyncio in /usr/local/lib/python3.10/dist-packages (from dash) (1.6.0)\n",
            "Requirement already satisfied: setuptools in /usr/local/lib/python3.10/dist-packages (from dash) (67.7.2)\n",
            "Requirement already satisfied: tenacity>=6.2.0 in /usr/local/lib/python3.10/dist-packages (from plotly) (8.5.0)\n",
            "Requirement already satisfied: packaging in /usr/local/lib/python3.10/dist-packages (from plotly) (24.1)\n",
            "Requirement already satisfied: Jinja2>=3.0 in /usr/local/lib/python3.10/dist-packages (from Flask<3.1,>=1.0.4->dash) (3.1.4)\n",
            "Requirement already satisfied: itsdangerous>=2.0 in /usr/local/lib/python3.10/dist-packages (from Flask<3.1,>=1.0.4->dash) (2.2.0)\n",
            "Requirement already satisfied: click>=8.0 in /usr/local/lib/python3.10/dist-packages (from Flask<3.1,>=1.0.4->dash) (8.1.7)\n",
            "Requirement already satisfied: six>=1.5 in /usr/local/lib/python3.10/dist-packages (from python-dateutil>=2.8.2->pandas) (1.16.0)\n",
            "Requirement already satisfied: MarkupSafe>=2.1.1 in /usr/local/lib/python3.10/dist-packages (from Werkzeug<3.1->dash) (2.1.5)\n",
            "Requirement already satisfied: zipp>=0.5 in /usr/local/lib/python3.10/dist-packages (from importlib-metadata->dash) (3.19.2)\n",
            "Requirement already satisfied: charset-normalizer<4,>=2 in /usr/local/lib/python3.10/dist-packages (from requests->dash) (3.3.2)\n",
            "Requirement already satisfied: idna<4,>=2.5 in /usr/local/lib/python3.10/dist-packages (from requests->dash) (3.7)\n",
            "Requirement already satisfied: urllib3<3,>=1.21.1 in /usr/local/lib/python3.10/dist-packages (from requests->dash) (2.0.7)\n",
            "Requirement already satisfied: certifi>=2017.4.17 in /usr/local/lib/python3.10/dist-packages (from requests->dash) (2024.7.4)\n",
            "Installing collected packages: dash-table, dash-html-components, dash-core-components, retrying, dash\n",
            "Successfully installed dash-2.17.1 dash-core-components-2.0.0 dash-html-components-2.0.0 dash-table-5.0.0 retrying-1.3.4\n"
          ]
        }
      ],
      "source": [
        "# Installer les bibliothèques nécessaires\n",
        "!pip install pandas dash plotly\n",
        "\n",
        "# Code du tableau de bord\n",
        "import dash\n",
        "from dash import dcc, html\n",
        "import plotly.express as px\n",
        "import pandas as pd"
      ]
    },
    {
      "cell_type": "code",
      "source": [
        "import dash\n",
        "from dash import dcc, html\n",
        "import plotly.express as px\n",
        "import pandas as pd"
      ],
      "metadata": {
        "id": "e-5Wn5iJlvIN"
      },
      "execution_count": 3,
      "outputs": []
    },
    {
      "cell_type": "code",
      "source": [
        "# Données des écoles\n",
        "data = [\n",
        "    {\"name\": \"Lycée Babacar Cobar Ndao\", \"level\": \"Lycée\", \"students\": 0, \"functional_classes\": 0},\n",
        "    {\"name\": \"Cem Waly Thiobane\", \"level\": \"Collège\", \"students\": 906, \"functional_classes\": 14},\n",
        "    {\"name\": \"École élémentaire Waly Fatha Ndiaye\", \"level\": \"Élémentaire\", \"students\": 644, \"functional_classes\": 12},\n",
        "    {\"name\": \"École Élémentaire Diamaguene TP\", \"level\": \"Élémentaire\", \"students\": 653, \"functional_classes\": 12},\n",
        "    {\"name\": \"Lycée Diamaguene TP\", \"level\": \"Lycée\", \"students\": 1500, \"functional_classes\": 18},\n",
        "    {\"name\": \"Elhadji Ndéné Diodio Ndiaye\", \"level\": \"Élémentaire\", \"students\": 635, \"functional_classes\": 13},\n",
        "    {\"name\": \"CEM 2 Babacar Cobar Ndao\", \"level\": \"Collège\", \"students\": 874, \"functional_classes\": 18},\n",
        "    {\"name\": \"CEM 1 Babacar Cobar Ndao\", \"level\": \"Collège\", \"students\": 853, \"functional_classes\": 16},\n",
        "    {\"name\": \"École El hadji Fana Cissé\", \"level\": \"Élémentaire\", \"students\": 389, \"functional_classes\": 11},\n",
        "    {\"name\": \"Lycée Franco-Arabe\", \"level\": \"Lycée\", \"students\": 858, \"functional_classes\": 10},\n",
        "    {\"name\": \"École Notre Dame\", \"level\": \"Élémentaire\", \"students\": 0, \"functional_classes\": 0},\n",
        "    {\"name\": \"Case des tout petit Kaffrine\", \"level\": \"Maternelle\", \"students\": 0, \"functional_classes\": 0},\n",
        "    {\"name\": \"École maternelle publique\", \"level\": \"Maternelle\", \"students\": 0, \"functional_classes\": 0},\n",
        "    {\"name\": \"École Kaffrine 6\", \"level\": \"Élémentaire\", \"students\": 658, \"functional_classes\": 13},\n",
        "    {\"name\": \"École élémentaire Kaffrine 10\", \"level\": \"Élémentaire\", \"students\": 305, \"functional_classes\": 8},\n",
        "    {\"name\": \"École élémentaire Kaffrine 3\", \"level\": \"Élémentaire\", \"students\": 536, \"functional_classes\": 12},\n",
        "    {\"name\": \"École élémentaire Kaffrine 9\", \"level\": \"Élémentaire\", \"students\": 0, \"functional_classes\": 0},\n",
        "    {\"name\": \"École élémentaire Tagouthie Waly Ndao\", \"level\": \"Élémentaire\", \"students\": 0, \"functional_classes\": 0},\n",
        "    {\"name\": \"École élémentaire Kaffrine 8\", \"level\": \"Élémentaire\", \"students\": 0, \"functional_classes\": 0},\n",
        "]\n",
        "\n",
        "df = pd.DataFrame(data)"
      ],
      "metadata": {
        "id": "-O1bhW8xl0mA"
      },
      "execution_count": 4,
      "outputs": []
    },
    {
      "cell_type": "code",
      "source": [
        "# Calculer la moyenne d'élèves par classe\n",
        "df['average_students_per_class'] = df.apply(lambda row: row['students'] / row['functional_classes'] if row['functional_classes'] > 0 else 0, axis=1)\n",
        "\n",
        "# Initialisation de l'application Dash\n",
        "app = dash.Dash(__name__)\n",
        "\n",
        "app.layout = html.Div([\n",
        "    html.H1(\"Tableau de Bord: Moyenne d'Élèves par Classe dans les Écoles de Kaffrine\"),\n",
        "\n",
        "    html.Div([\n",
        "        html.H3(\"Écoles Élémentaires\"),\n",
        "        dcc.Graph(id='graph-elementaire'),\n",
        "    ]),\n",
        "\n",
        "    html.Div([\n",
        "        html.H3(\"Collèges\"),\n",
        "        dcc.Graph(id='graph-college'),\n",
        "    ]),\n",
        "\n",
        "    html.Div([\n",
        "        html.H3(\"Lycées\"),\n",
        "        dcc.Graph(id='graph-lycee'),\n",
        "    ])\n",
        "])\n",
        "\n",
        "@app.callback(\n",
        "    [dash.dependencies.Output('graph-elementaire', 'figure'),\n",
        "     dash.dependencies.Output('graph-college', 'figure'),\n",
        "     dash.dependencies.Output('graph-lycee', 'figure')],\n",
        "    [dash.dependencies.Input('graph-elementaire', 'id')]  # Just a dummy input to trigger the callback\n",
        ")\n",
        "def update_graphs(_):\n",
        "    # Filtrer les données par niveau\n",
        "    df_elementaire = df[df['level'] == 'Élémentaire']\n",
        "    df_college = df[df['level'] == 'Collège']\n",
        "    df_lycee = df[df['level'] == 'Lycée']\n",
        "\n",
        "    # Créer les graphiques  #This line was not indented correctly\n",
        "    fig_elementaire = px.bar(\n",
        "        df_elementaire, x='name', y='average_students_per_class',\n",
        "        title='Moyenne d\\'Élèves par Classe dans les Écoles Élémentaires',\n",
        "        labels={'name': 'Nom de l\\'École', 'average_students_per_class': 'Moyenne d\\'Élèves par Classe'}\n",
        "    )\n",
        "\n",
        "    fig_college = px.bar(\n",
        "        df_college, x='name', y='average_students_per_class',\n",
        "        title='Moyenne d\\'Élèves par Classe dans les Collèges',\n",
        "        labels={'name': 'Nom de l\\'École', 'average_students_per_class': 'Moyenne d\\'Élèves par Classe'}\n",
        "    )\n",
        "\n",
        "    fig_lycee = px.bar(\n",
        "        df_lycee, x='name', y='average_students_per_class',\n",
        "        title='Moyenne d\\'Élèves par Classe dans les Lycées',\n",
        "        labels={'name': 'Nom de l\\'École', 'average_students_per_class': 'Moyenne d\\'Élèves par Classe'}\n",
        "    )\n",
        "\n",
        "    return fig_elementaire, fig_college, fig_lycee\n",
        "\n",
        "# Démarrer le serveur Dash\n",
        "app.run_server(debug=True, use_reloader=False)"
      ],
      "metadata": {
        "colab": {
          "base_uri": "https://localhost:8080/",
          "height": 671
        },
        "id": "iVSfnQnXqvmS",
        "outputId": "25dbfa59-4316-433a-e0b2-c48ce7112e57"
      },
      "execution_count": 15,
      "outputs": [
        {
          "output_type": "display_data",
          "data": {
            "text/plain": [
              "<IPython.core.display.Javascript object>"
            ],
            "application/javascript": [
              "(async (port, path, width, height, cache, element) => {\n",
              "    if (!google.colab.kernel.accessAllowed && !cache) {\n",
              "      return;\n",
              "    }\n",
              "    element.appendChild(document.createTextNode(''));\n",
              "    const url = await google.colab.kernel.proxyPort(port, {cache});\n",
              "    const iframe = document.createElement('iframe');\n",
              "    iframe.src = new URL(path, url).toString();\n",
              "    iframe.height = height;\n",
              "    iframe.width = width;\n",
              "    iframe.style.border = 0;\n",
              "    iframe.allow = [\n",
              "        'accelerometer',\n",
              "        'autoplay',\n",
              "        'camera',\n",
              "        'clipboard-read',\n",
              "        'clipboard-write',\n",
              "        'gyroscope',\n",
              "        'magnetometer',\n",
              "        'microphone',\n",
              "        'serial',\n",
              "        'usb',\n",
              "        'xr-spatial-tracking',\n",
              "    ].join('; ');\n",
              "    element.appendChild(iframe);\n",
              "  })(8050, \"/\", \"100%\", 650, false, window.element)"
            ]
          },
          "metadata": {}
        }
      ]
    }
  ]
}